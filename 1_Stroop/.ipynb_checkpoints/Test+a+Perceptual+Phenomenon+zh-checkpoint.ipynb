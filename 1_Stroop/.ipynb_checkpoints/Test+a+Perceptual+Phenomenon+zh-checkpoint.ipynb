{
 "cells": [
  {
   "cell_type": "markdown",
   "metadata": {},
   "source": [
    "### 统计学：检验心理学现象\n",
    "\n",
    "在下方单元格中回答问题并执行相关代码，你可以 [参考项目指导](https://github.com/udacity/new-dand-advanced-china/blob/master/%E6%A3%80%E9%AA%8C%E5%BF%83%E7%90%86%E5%AD%A6%E7%8E%B0%E8%B1%A1/%E7%BB%9F%E8%AE%A1%E5%AD%A6%EF%BC%9A%E6%A3%80%E9%AA%8C%E5%BF%83%E7%90%86%E5%AD%A6%E7%8E%B0%E8%B1%A1.md) 并在正式提交前查看 [项目要求](https://review.udacity.com/#!/rubrics/305/view)。提交时请将 Jupyter notebook 导出成 HTML 或者 PDF 进行提交（File -> Download As）。\n",
    "\n",
    "背景信息\n",
    "\n",
    "在一个Stroop （斯特鲁普）任务中，参与者得到了一列文字，每个文字都用一种油墨颜色展示。参与者的任务是将文字的打印颜色大声说出来。这项任务有两个条件：一致文字条件，和不一致文字条件。在一致文字条件中，显示的文字是与它们的打印颜色匹配的颜色词，如“红色”、“蓝色”。在不一致文字条件中，显示的文字是与它们的打印颜色不匹配的颜色词，如“紫色”、“橙色”。在每个情况中，我们将计量说出同等大小的列表中的墨色名称的时间。每位参与者必须全部完成并记录每种条件下使用的时间。\n",
    "\n",
    "调查问题\n",
    "\n",
    "作为一般说明，请确保记录你在创建项目时使用或参考的任何资源。作为项目提交的一部分，你将需要报告信息来源。\n",
    "\n",
    "(1) 我们的自变量是什么？因变量是什么？"
   ]
  },
  {
   "cell_type": "markdown",
   "metadata": {},
   "source": [
    "自变量：颜色和文字一致的条件或不一致的条件\n",
    "\n",
    "因变量：被试说出同等大小的列表中的墨色名称的时间"
   ]
  },
  {
   "cell_type": "markdown",
   "metadata": {},
   "source": [
    "(2) 此任务的适当假设集是什么？你需要以文字和数学符号方式对假设集中的零假设和对立假设加以说明，并对数学符号进行定义。你想执行什么类型的统计检验？为你的选择提供正当理由（比如，为何该实验满足你所选统计检验的前置条件）。"
   ]
  },
  {
   "cell_type": "markdown",
   "metadata": {},
   "source": [
    "$X_1$:被试看到颜色与文字一致时说出同等大小的列表中的墨色名称的时间\n",
    "\n",
    "$X_2$:被试看到颜色与文字不一致时说出同等大小的列表中的墨色名称的时间"
   ]
  },
  {
   "cell_type": "markdown",
   "metadata": {},
   "source": [
    "$\\mu_c$:被试看到颜色与文字一致时说出同等大小的列表中的墨色名称的时间的总体均值\n",
    "\n",
    "$\\mu_{in}$:被试看到颜色与文字不一致时说出同等大小的列表中的墨色名称的时间的总体均值"
   ]
  },
  {
   "cell_type": "markdown",
   "metadata": {},
   "source": [
    "这里假定受试者之间没有互相影响，且每次念出相同长度的列表中墨色的反应时间服从正态分布，且具有相同的方差$\\sigma^2$, 即：\n",
    "\n",
    "$X_1\\sim N(\\mu_c,\\sigma^2)$,\n",
    "$X_2\\sim N(\\mu_c,\\sigma^2)$"
   ]
  },
  {
   "cell_type": "markdown",
   "metadata": {},
   "source": [
    "$H_0: \\mu_{c} - \\mu_{in} = 0$\n",
    "\n",
    "$H_A: \\mu_{c} - \\mu_{in} \\neq 0$\n",
    "\n",
    "检验类型：独立样本t-检验（Independent Samples t-test）。\n",
    "\n",
    "\n",
    "理由：\n",
    "1.自变量与因变量为独立变量。这是因为一致性条件与反应时间是两种不同的物理量。\n",
    "2.因变量连续。被试说出相同大小列表的时间是连续的。\n",
    "3.成对的因变量相对独立。这是因为每次被试念出颜色的实验之间是独立的。\n",
    "4.因变量可以假设服从正态分布。"
   ]
  },
  {
   "cell_type": "markdown",
   "metadata": {},
   "source": [
    "参考链接：\n",
    "1. [独立和相依样本区别](https://github.com/ShiChJ/DAND-Basic-Materials/blob/master/P1/%E7%8B%AC%E7%AB%8B%E5%92%8C%E7%9B%B8%E4%BE%9D%E6%A0%B7%E6%9C%AC%E5%8C%BA%E5%88%AB.pdf)\n",
    "2. [相关样本和独立样本有何不同](https://support.minitab.com/zh-cn/minitab/18/help-and-how-to/statistics/basic-statistics/supporting-topics/tests-of-means/how-are-dependent-and-independent-samples-different/)"
   ]
  },
  {
   "cell_type": "markdown",
   "metadata": {},
   "source": [
    "现在轮到你自行尝试 Stroop 任务了。前往此链接，其中包含一个基于 Java 的小程序，专门用于执行 Stroop 任务。记录你收到的任务时间（你无需将时间提交到网站）。现在下载此数据集，其中包含一些任务参与者的结果。数据集的每行包含一名参与者的表现，第一个数字代表他们的一致任务结果，第二个数字代表不一致任务结果。\n",
    "\n",
    "(3) 报告关于此数据集的一些描述性统计。包含至少一个集中趋势测量和至少一个变异测量。"
   ]
  },
  {
   "cell_type": "code",
   "execution_count": 1,
   "metadata": {
    "collapsed": true
   },
   "outputs": [],
   "source": [
    "import pandas as pd\n",
    "import matplotlib.pyplot as plt\n",
    "%matplotlib inline"
   ]
  },
  {
   "cell_type": "code",
   "execution_count": 2,
   "metadata": {
    "collapsed": false
   },
   "outputs": [
    {
     "name": "stdout",
     "output_type": "stream",
     "text": [
      "count    24.000000\n",
      "mean     14.051125\n",
      "std       3.559358\n",
      "min       8.630000\n",
      "25%      11.895250\n",
      "50%      14.356500\n",
      "75%      16.200750\n",
      "max      22.328000\n",
      "Name: Congruent, dtype: float64\n",
      "count    24.000000\n",
      "mean     22.015917\n",
      "std       4.797057\n",
      "min      15.687000\n",
      "25%      18.716750\n",
      "50%      21.017500\n",
      "75%      24.051500\n",
      "max      35.255000\n",
      "Name: Incongruent, dtype: float64\n",
      "count    24.000000\n",
      "mean     -7.964792\n",
      "std       4.864827\n",
      "min     -21.919000\n",
      "25%     -10.258500\n",
      "50%      -7.666500\n",
      "75%      -3.645500\n",
      "max      -1.950000\n",
      "dtype: float64\n"
     ]
    }
   ],
   "source": [
    "df = pd.read_csv('stroop.csv')\n",
    "df_c = df['Congruent']\n",
    "df_in = df['Incongruent']\n",
    "print(df_c.describe())\n",
    "print(df_in.describe())\n",
    "d = df_c - df_in\n",
    "print(d.describe())"
   ]
  },
  {
   "cell_type": "markdown",
   "metadata": {
    "collapsed": true
   },
   "source": [
    "样本量：$n = 24$\n",
    "\n",
    "样本均值：$\\bar{X}_c = 14.05, \\bar{X}_{in} = 22.02$\n",
    "\n",
    "样本差值均值$\\bar{d} = \\frac{\\Sigma(\\bar{X}_c - \\bar{X}_{in})}{n} = -7.96$\n",
    "\n",
    "样本标准差：$S_c = 3.56, S_{in} = 4.80$\n",
    "\n",
    "变异系数（coefficient of variation）:$C_{vc} = 3.95, C_{vin} = 4.59$"
   ]
  },
  {
   "cell_type": "markdown",
   "metadata": {},
   "source": [
    "(4) 提供显示样本数据分布的一个或两个可视化。用一两句话说明你从图中观察到的结果。"
   ]
  },
  {
   "cell_type": "code",
   "execution_count": 3,
   "metadata": {
    "collapsed": false
   },
   "outputs": [
    {
     "data": {
      "image/png": "[encoded data removed]",
      "text/plain": [
       "<matplotlib.figure.Figure at 0xc433d30>"
      ]
     },
     "metadata": {},
     "output_type": "display_data"
    }
   ],
   "source": [
    "x = range(1, 25)\n",
    "plt.scatter(x, df_c, label = '$congrent$', c = 'green')\n",
    "plt.legend()\n",
    "plt.scatter(x, df_in, label = '$incongrent$', c = 'blue')\n",
    "plt.legend()\n",
    "plt.scatter(x, d, label = '$difference$', c = 'orange')\n",
    "plt.legend()\n",
    "plt.show()"
   ]
  },
  {
   "cell_type": "markdown",
   "metadata": {},
   "source": [
    "下图为Excel作出："
   ]
  },
  {
   "cell_type": "markdown",
   "metadata": {
    "collapsed": true
   },
   "source": [
    "![Stroop](./QQ.png)\n"
   ]
  },
  {
   "cell_type": "markdown",
   "metadata": {},
   "source": [
    "被试在颜色与文字不同的情况下，反应时间高于相同的情况。"
   ]
  },
  {
   "cell_type": "markdown",
   "metadata": {},
   "source": [
    "(5) 现在，执行统计测试并报告你的结果。你的置信水平和关键统计值是多少？你是否成功拒绝零假设？对试验任务得出一个结论。结果是否与你的期望一致？"
   ]
  },
  {
   "cell_type": "code",
   "execution_count": 4,
   "metadata": {
    "collapsed": false
   },
   "outputs": [
    {
     "name": "stdout",
     "output_type": "stream",
     "text": [
      "0.993028634778\n",
      "-8.02070694411\n"
     ]
    }
   ],
   "source": [
    "n = 24\n",
    "d_2 = sum([i**2 for i in d])\n",
    "S = ((d_2 - d.mean() ** 2 * n) / (n - 1)) ** 0.5\n",
    "SE = S / n ** 0.5\n",
    "# SE = d.std() / n ** 0.5\n",
    "t = d.mean() / SE\n",
    "print(SE)\n",
    "print(t)"
   ]
  },
  {
   "cell_type": "markdown",
   "metadata": {
    "collapsed": true
   },
   "source": [
    "置信水平：99%\n",
    "\n",
    "关键统计值$t_{crit}$：2.81(双边)\n",
    "\n",
    "${SE_d} = 0.99, t = \\frac{\\bar{d}}{SE_d} = \\frac{-7.96}{0.99} = -8.02$\n",
    "\n",
    "$|t| > |t_{crit}|$ 所以拒斥$H_0$\n",
    "\n",
    "结论：被试看到颜色与文字一致时的平均反应时间显著低于二者不一致时的反应时间\n",
    "\n",
    "与期望一致"
   ]
  }
 ],
 "metadata": {
  "anaconda-cloud": {},
  "kernelspec": {
   "display_name": "Python 2",
   "language": "python",
   "name": "python2"
  },
  "language_info": {
   "codemirror_mode": {
    "name": "ipython",
    "version": 2
   },
   "file_extension": ".py",
   "mimetype": "text/x-python",
   "name": "python",
   "nbconvert_exporter": "python",
   "pygments_lexer": "ipython2",
   "version": "2.7.13"
  }
 },
 "nbformat": 4,
 "nbformat_minor": 2
}
